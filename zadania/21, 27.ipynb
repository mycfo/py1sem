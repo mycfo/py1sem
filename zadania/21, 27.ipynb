{
 "cells": [
  {
   "cell_type": "code",
   "execution_count": 1,
   "metadata": {},
   "outputs": [],
   "source": [
    "import matplotlib.pyplot as plt\n",
    "import numpy as np\n",
    "import random"
   ]
  },
  {
   "cell_type": "code",
   "execution_count": 8,
   "metadata": {},
   "outputs": [
    {
     "name": "stdout",
     "output_type": "stream",
     "text": [
      "3.4749999999999996\n",
      "3.4749999999999996\n",
      "True\n",
      "-0.7133283917429476\n"
     ]
    }
   ],
   "source": [
    "#21. Utwórz fukcję, która jako argument będzie przyjmować listę liczb zmiennoprzecinkowych, a jej wynikiem będzie średnia arytmetyczna. Porównaj jej wynik z wynikiem fukcji mean z pakietu numpy\n",
    "x = [4.6, 6.6, 2.1, 1.5, 3.0, 7.0, 2.3, 0.7]\n",
    "def srednia(x):\n",
    "    return sum(x)/len(x)\n",
    "print(srednia(x))\n",
    "print(np.mean(x))\n",
    "print(srednia(x) == np.mean(x))\n",
    "\n",
    "#27. Utwórz funkcję, która jako argument będzie przyjmować listę liczb zmiennoprzecinkowych, a jej wynikiem będzie czwarty moment centralny (kurtoza)\n",
    "\n",
    "def wariancja(x):\n",
    "    sr = srednia(x)\n",
    "    suma = 0\n",
    "    for i in range(len(x)-1):\n",
    "        suma = suma + (x[i] - sr)**2\n",
    "    return suma/len(x)\n",
    " \n",
    "def odchylenie(x):\n",
    "    return wariancja(x)**0.5\n",
    "\n",
    "def kurtoza(x):\n",
    "    sr = srednia(x)\n",
    "    suma = 0\n",
    "    for i in range(len(x)-1):\n",
    "        suma = suma + (x[i] - sr)**4\n",
    "    return ((suma/len(x))/odchylenie(x)**4)-3\n",
    "\n",
    "print(kurtoza(x))"
   ]
  },
  {
   "cell_type": "code",
   "execution_count": null,
   "metadata": {
    "collapsed": true
   },
   "outputs": [],
   "source": []
  }
 ],
 "metadata": {
  "kernelspec": {
   "display_name": "Python 3",
   "language": "python",
   "name": "python3"
  },
  "language_info": {
   "codemirror_mode": {
    "name": "ipython",
    "version": 3
   },
   "file_extension": ".py",
   "mimetype": "text/x-python",
   "name": "python",
   "nbconvert_exporter": "python",
   "pygments_lexer": "ipython3",
   "version": "3.6.3"
  }
 },
 "nbformat": 4,
 "nbformat_minor": 2
}
