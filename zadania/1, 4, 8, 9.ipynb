{
 "cells": [
  {
   "cell_type": "code",
   "execution_count": 6,
   "metadata": {},
   "outputs": [
    {
     "name": "stdout",
     "output_type": "stream",
     "text": [
      "Wprowadż liczbe, żeby otrzymać dzielniki:77\n",
      "1 7 11 77\n"
     ]
    }
   ],
   "source": [
    "#1. Napisz skrypt, który będzie wyświetlać wszystkie kolejne dzielniki wprowadzonej liczby\n",
    "\n",
    "liczba = int(input('Wprowadż liczbe, żeby otrzymać dzielniki:'))\n",
    "i=1\n",
    "while i<=liczba//2:\n",
    "    if liczba%i==0:\n",
    "        print(i,end=' ')\n",
    "    i+=1\n",
    "print(liczba)"
   ]
  },
  {
   "cell_type": "code",
   "execution_count": 7,
   "metadata": {},
   "outputs": [
    {
     "name": "stdout",
     "output_type": "stream",
     "text": [
      "Wprowadż a: 5\n",
      "Wprowadż b: 8\n",
      "Wprowadż c: 4\n",
      "x1: (-0.8+0.4j)\n",
      "x2: (-0.8-0.4j)\n"
     ]
    }
   ],
   "source": [
    "#4. Utwórz skrypt do znajdowania miejsc zerowych trójmianu kwadratowego x1 = (-b+sqrt(b*b-4*a*c))/(2*a), x2 = (-b-sqrt(b*b-4*a*c))/(2*a)\n",
    "\n",
    "def roots(a, b, c):\n",
    "    \n",
    "    D = (b*b - 4*a*c)**0.5\n",
    "    x1 = (-b+ D)/(2*a)\n",
    "    x2 = (-b- D)/(2*a)\n",
    "    \n",
    "    print('x1: {0}'.format(x1))\n",
    "    print('x2: {0}'.format(x2))\n",
    "    \n",
    "if __name__ == '__main__':\n",
    "    a = input('Wprowadż a: ')\n",
    "    b = input('Wprowadż b: ')\n",
    "    c = input('Wprowadż c: ')\n",
    "    roots(float(a), float(b), float(c))"
   ]
  },
  {
   "cell_type": "code",
   "execution_count": 11,
   "metadata": {},
   "outputs": [
    {
     "name": "stdout",
     "output_type": "stream",
     "text": [
      "Wpowadż ilość punktów od 1 do 40: 25\n",
      "dst\n",
      "62.5\n"
     ]
    }
   ],
   "source": [
    "#8. W klasie przeprowadzono sprawdzian, za który uczniowie mogli otrzymać maksymalnie 40 punktów. \n",
    "#Skala ocen w szkole jest następująca: 0-39% - ndst, 40-49% - dop, 50-69% - dst, 70-84% - db, 85-99% - bdb, 100% - cel. \n",
    "#Utwórz skrypt z interfejsem tekstowym, który na podstawie podanej liczby punktów ze sprawdzianu wyświetli ocenę jaka się należy (skorzystaj z konstrukcji if, elif, else)\n",
    "\n",
    "punkty = int(input('Wpowadż ilość punktów od 1 do 40: '))\n",
    "ocena = punkty/40*100\n",
    "if ocena >= 0 and ocena <= 39:\n",
    "    print('ndst')\n",
    "elif ocena >= 40 and ocena <= 49:\n",
    "    print('dop')\n",
    "elif ocena >= 50 and ocena <= 69:\n",
    "    print('dst')\n",
    "elif ocena >= 70 and ocena <= 84:\n",
    "    print('db')\n",
    "elif ocena >= 85 and ocena <= 99:\n",
    "    print('bdb')\n",
    "else:\n",
    "    print('cel')\n",
    "print(ocena)"
   ]
  },
  {
   "cell_type": "code",
   "execution_count": 13,
   "metadata": {},
   "outputs": [
    {
     "name": "stdout",
     "output_type": "stream",
     "text": [
      "5\n",
      "12\n",
      "68\n"
     ]
    }
   ],
   "source": [
    "#9. Utwórz skrypt z interfejsem tekstowym, który wyliczy sumę n kolejnych liczb (użytkownik podaje pierwszą i ostatnią liczbę sumy). Uwaga – w zadaniu należy zbudować funkcję własną realizującą dane zadanie\n",
    "\n",
    "a = int(input())\n",
    "b = int(input())\n",
    "\n",
    "def suma(a, b):\n",
    "    if a > b:\n",
    "        a, b = b, a\n",
    "  \n",
    "    t = 0\n",
    "    for i in range(a,b+1):\n",
    "        t += i\n",
    "    return t\n",
    "\n",
    "print(suma(a,b))"
   ]
  }
 ],
 "metadata": {
  "kernelspec": {
   "display_name": "Python 3",
   "language": "python",
   "name": "python3"
  },
  "language_info": {
   "codemirror_mode": {
    "name": "ipython",
    "version": 3
   },
   "file_extension": ".py",
   "mimetype": "text/x-python",
   "name": "python",
   "nbconvert_exporter": "python",
   "pygments_lexer": "ipython3",
   "version": "3.6.3"
  }
 },
 "nbformat": 4,
 "nbformat_minor": 2
}
