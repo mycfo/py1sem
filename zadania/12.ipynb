{
 "cells": [
  {
   "cell_type": "code",
   "execution_count": 13,
   "metadata": {},
   "outputs": [
    {
     "name": "stdout",
     "output_type": "stream",
     "text": [
      "6\n",
      "Liczby Fibonacciego:\n",
      "0\n",
      "1\n",
      "1\n",
      "2\n",
      "3\n",
      "5\n",
      "8\n",
      "13\n"
     ]
    }
   ],
   "source": [
    "#12. Utworzyć skrypt z interfejsem tekstowym obliczający n-ty element ciągu Fibonacciego – wykonać zadanie iteracyjnie i rekurencyjnie\n",
    "\n",
    "n = int(input())\n",
    "def rekur_f(n):\n",
    "    if n <= 1:\n",
    "        return n\n",
    "    else:\n",
    "        return(rekur_f(n-1) + rekur_f(n-2))\n",
    "nterms = 8\n",
    "if nterms <= 0:\n",
    "    print(\"Wprowadż pozytywną liczbe\")\n",
    "else:\n",
    "    print(\"Liczby Fibonacciego:\")\n",
    "    for i in range(nterms):\n",
    "        print(rekur_f(i))"
   ]
  },
  {
   "cell_type": "code",
   "execution_count": 22,
   "metadata": {},
   "outputs": [
    {
     "name": "stdout",
     "output_type": "stream",
     "text": [
      "6\n",
      "[0, 1, 1, 2, 3, 5, 8, 13]\n"
     ]
    }
   ],
   "source": [
    "n = int=(input())\n",
    "def fib(n):\n",
    "    f = []\n",
    "    a = 0\n",
    "    b = 1\n",
    "    if n == 0 or n == 1:\n",
    "        print(n)\n",
    "    else:\n",
    "        f.append(a)\n",
    "        f.append(b)\n",
    "        while len(f) != n:\n",
    "            temp = a + b\n",
    "            f.append(temp)\n",
    "            a = b\n",
    "            b = temp\n",
    "    print(f)\n",
    "\n",
    "fib(8)"
   ]
  },
  {
   "cell_type": "code",
   "execution_count": null,
   "metadata": {
    "collapsed": true
   },
   "outputs": [],
   "source": []
  }
 ],
 "metadata": {
  "kernelspec": {
   "display_name": "Python 3",
   "language": "python",
   "name": "python3"
  },
  "language_info": {
   "codemirror_mode": {
    "name": "ipython",
    "version": 3
   },
   "file_extension": ".py",
   "mimetype": "text/x-python",
   "name": "python",
   "nbconvert_exporter": "python",
   "pygments_lexer": "ipython3",
   "version": "3.6.3"
  }
 },
 "nbformat": 4,
 "nbformat_minor": 2
}
