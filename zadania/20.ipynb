{
 "cells": [
  {
   "cell_type": "code",
   "execution_count": 5,
   "metadata": {},
   "outputs": [
    {
     "name": "stdout",
     "output_type": "stream",
     "text": [
      "Nazwa miesięcu Styczeń w języku angielskim: January\n",
      "Nazwa miesięcu Luty w języku angielskim: Februrary\n",
      "Nazwa miesięcu Marzec w języku angielskim: March\n",
      "Nazwa miesięcu Kwiecień w języku angielskim: April\n",
      "Nazwa miesięcu Maj w języku angielskim: May\n",
      "Nazwa miesięcu Czerwiec w języku angielskim: June\n",
      "Nazwa miesięcu Lipiec w języku angielskim: July\n",
      "Nazwa miesięcu Sierpień w języku angielskim: August\n",
      "Nazwa miesięcu Wrzesień w języku angielskim: September\n",
      "Nazwa miesięcu Pażdziernik w języku angielskim: October\n",
      "Nazwa miesięcu Listopad w języku angielskim: November\n",
      "Nazwa miesięcu Grudzien w języku angielskim: December\n"
     ]
    }
   ],
   "source": [
    "#20. Korzystając ze słownika, utwórz funkcję, która będzie zwracać tłumaczenia nazw miesięcy z języka polskiego na angielski\n",
    "\n",
    "Translator = dict()\n",
    "\n",
    "Translator['Styczeń'] = 'January'\n",
    "Translator['Luty'] = 'Februrary'\n",
    "Translator['Marzec'] = 'March'\n",
    "Translator['Kwiecień'] = 'April'\n",
    "Translator['Maj'] = 'May'\n",
    "Translator['Czerwiec'] = 'June'\n",
    "Translator['Lipiec'] = 'July'\n",
    "Translator['Sierpień'] = 'August'\n",
    "Translator['Wrzesień'] = 'September'\n",
    "Translator['Pażdziernik'] = 'October'\n",
    "Translator['Listopad'] = 'November'\n",
    "Translator['Grudzien'] = 'December'\n",
    "\n",
    "Words = ['Styczeń', 'Luty', 'Marzec', 'Kwiecień', 'Maj', 'Czerwiec', 'Lipiec', 'Sierpień', 'Wrzesień', 'Pażdziernik', 'Listopad', 'Grudzien']\n",
    "\n",
    "for word in Words:\n",
    "    if word in Translator:\n",
    "        print('Nazwa miesięcu ' + word + ' w języku angielskim: ' + Translator[word])"
   ]
  },
  {
   "cell_type": "code",
   "execution_count": null,
   "metadata": {
    "collapsed": true
   },
   "outputs": [],
   "source": []
  }
 ],
 "metadata": {
  "kernelspec": {
   "display_name": "Python 3",
   "language": "python",
   "name": "python3"
  },
  "language_info": {
   "codemirror_mode": {
    "name": "ipython",
    "version": 3
   },
   "file_extension": ".py",
   "mimetype": "text/x-python",
   "name": "python",
   "nbconvert_exporter": "python",
   "pygments_lexer": "ipython3",
   "version": "3.6.3"
  }
 },
 "nbformat": 4,
 "nbformat_minor": 2
}
