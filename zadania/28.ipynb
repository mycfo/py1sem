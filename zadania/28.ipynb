{
 "cells": [
  {
   "cell_type": "code",
   "execution_count": 2,
   "metadata": {},
   "outputs": [
    {
     "name": "stdout",
     "output_type": "stream",
     "text": [
      "Współczynnik korelacji:\n",
      "-0.4258094386404064\n"
     ]
    }
   ],
   "source": [
    "#28. Utwórz funkcję, która jako argument będzie przyjmować dwie listy o równej liczbie elementów, a jej wynikiem będzie współczynnik korelacji\n",
    "\n",
    "import numpy as np\n",
    "x = [1, 3, 5, 2, 7, 17]\n",
    "y = [6, 7, 3, 34, 8, 2]\n",
    "\n",
    "def kor(x, y):\n",
    "    return np.corrcoef(x,y)[0, 1]\n",
    "print('Współczynnik korelacji:')\n",
    "print(kor(x, y))"
   ]
  }
 ],
 "metadata": {
  "kernelspec": {
   "display_name": "Python 3",
   "language": "python",
   "name": "python3"
  },
  "language_info": {
   "codemirror_mode": {
    "name": "ipython",
    "version": 3
   },
   "file_extension": ".py",
   "mimetype": "text/x-python",
   "name": "python",
   "nbconvert_exporter": "python",
   "pygments_lexer": "ipython3",
   "version": "3.6.3"
  }
 },
 "nbformat": 4,
 "nbformat_minor": 2
}
