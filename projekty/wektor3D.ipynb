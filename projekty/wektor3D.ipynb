{
 "cells": [
  {
   "cell_type": "code",
   "execution_count": 7,
   "metadata": {},
   "outputs": [
    {
     "name": "stdout",
     "output_type": "stream",
     "text": [
      "(1, 1, 1)\n",
      "1.7320508075688772\n",
      "(1, 1, 1)\n",
      "0.5773502691896258\n",
      "0.6154797086703875\n"
     ]
    }
   ],
   "source": [
    "import math\n",
    "\n",
    "class Vector3D:\n",
    "    def __init__(self, x, y, z):\n",
    "        self._x = x\n",
    "        self._y = y\n",
    "        self._z = z\n",
    "    def __mul__(self, other):\n",
    "        return Vector3D(self._x*other._x, self._y*other._y, self._z*other._z)\n",
    "    def mag(self):\n",
    "        return math.sqrt((self._x)^2 + (self._y)^2 + (self._z)^2)\n",
    "    def dot(self, other):\n",
    "        temp = self * other\n",
    "        return temp._x + temp._y + temp._z\n",
    "    def cos_theta(self):\n",
    "        return self.dot(Vector3D(0,0,1)) / self.mag()\n",
    "    def phi(self):\n",
    "        return math.asin( self.dot(Vector3D(0,0,1)) / self.mag() )\n",
    "    def __repr__(self):\n",
    "        return \"({x}, {y}, {z})\".format(x=self._x, y=self._y, z=self._z)\n",
    "if __name__ == \"__main__\":\n",
    "    samplevector = Vector3D(1,1,1)\n",
    "    print(samplevector)\n",
    "    print(samplevector.mag())\n",
    "    print(samplevector*Vector3D(1,1,1))\n",
    "    print(samplevector.cos_theta())\n",
    "    print(samplevector.phi())"
   ]
  }
 ],
 "metadata": {
  "kernelspec": {
   "display_name": "Python 3",
   "language": "python",
   "name": "python3"
  },
  "language_info": {
   "codemirror_mode": {
    "name": "ipython",
    "version": 3
   },
   "file_extension": ".py",
   "mimetype": "text/x-python",
   "name": "python",
   "nbconvert_exporter": "python",
   "pygments_lexer": "ipython3",
   "version": "3.6.3"
  }
 },
 "nbformat": 4,
 "nbformat_minor": 2
}
