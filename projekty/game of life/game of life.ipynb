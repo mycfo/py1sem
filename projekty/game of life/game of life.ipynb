{
 "cells": [
  {
   "cell_type": "code",
   "execution_count": 1,
   "metadata": {
    "collapsed": true
   },
   "outputs": [],
   "source": [
    "import numpy as np\n",
    "import matplotlib.pyplot as plt\n",
    "import matplotlib.animation as animation"
   ]
  },
  {
   "cell_type": "code",
   "execution_count": 2,
   "metadata": {
    "collapsed": true
   },
   "outputs": [],
   "source": [
    "ON = 255\n",
    "OFF = 0\n",
    "vals = [ON, OFF]\n",
    "\n",
    "def randomGrid(N):\n",
    "    return np.random.choice(vals, N*N, p=[0.2, 0.8]).reshape(N, N)\n",
    "\n",
    "def addGlider(i, j, grid):\n",
    "    glider = np.array([[0, 0, 255],\n",
    "                       [255, 0, 255],\n",
    "                       [0, 255, 255]])\n",
    "    grid[i:i+3, j:j+3] = glider\n",
    "    \n",
    "def update(frameNum, img, grid, N):\n",
    "    newGrid = grid.copy()\n",
    "    for i in range(N):\n",
    "        for j in range(N):\n",
    "            total = int((grid[i, (j-1)%N] + grid[i, (j+1)%N] +\n",
    "                         grid[(i-1)%N, j] + grid[(i+1)%N, j] +\n",
    "                         grid[(i-1)%N, (j-1)%N] + grid[(i-1)%N, (j+1)%N] +\n",
    "                         grid[(i+1)%N, (j-1)%N] + grid[(i+1)%N, (j+1)%N])/255)\n",
    "            if grid[i, j] == ON:\n",
    "                if (total < 2) or (total > 3):\n",
    "                    newGrid[i, j] = OFF\n",
    "\n",
    "            else:\n",
    "                if total == 3:\n",
    "                    newGrid[i, j] = ON\n",
    "    img.set_data(newGrid)\n",
    "    grid[:] = newGrid[:]\n",
    "    return img,\n",
    "\n",
    "def(main):\n",
    "    parser = argparse.ArgumentParser(description=\"Runs Conway's Game of Life simulation.\")\n",
    "    parser.add_argument('--grid-size', dest='N', required=False)\n",
    "    parser.add_argument('--mov-file', dest='movfile', required=False)\n",
    "    parser.add_argument('--interval', dest='interval', required=False)\n",
    "    parser.add_argument('--glider', action='store_true', required=False)\n",
    "    parser.add_argument('--gosper', action='store_true', required=False)\n",
    "    args = parser.parse_args()\n",
    "    \n",
    "    N = 100\n",
    "    if args.N and int(args.N) > 8:\n",
    "        N = int(args.N)\n",
    "    \n",
    "    updateInterval = 50\n",
    "    if args.interval:\n",
    "        updateInterval = int(args.interval)\n",
    "    \n",
    "    grid = np.array([])\n",
    "    if args.glider:\n",
    "        grid = np.zeros(N*N).reshape(N, N)\n",
    "        addGlider(1, 1, grid)\n",
    "    else:\n",
    "        grid = randomGrid(N)\n",
    "        \n",
    "    fig, ax = plt.subplots()\n",
    "    img = ax.imshow(grid, interpolation='nearest')\n",
    "    ani = animation.FuncAnimation(fig, update, fargs=(img, grid, N, ),\n",
    "                                  frames=10,\n",
    "                                  interval=updateInterval,\n",
    "                                  save_count=50)\n",
    "    if args.movfile:\n",
    "        ani.save(args.movfile, fps=30, extra_args=['-vcodec', 'libx264\n",
    "                                       \n",
    "    plt.show()\n",
    "if __name__ == '__main__':\n",
    "    main()"
   ]
  }
 ],
 "metadata": {
  "kernelspec": {
   "display_name": "Python 3",
   "language": "python",
   "name": "python3"
  },
  "language_info": {
   "codemirror_mode": {
    "name": "ipython",
    "version": 3
   },
   "file_extension": ".py",
   "mimetype": "text/x-python",
   "name": "python",
   "nbconvert_exporter": "python",
   "pygments_lexer": "ipython3",
   "version": "3.6.3"
  }
 },
 "nbformat": 4,
 "nbformat_minor": 2
}
